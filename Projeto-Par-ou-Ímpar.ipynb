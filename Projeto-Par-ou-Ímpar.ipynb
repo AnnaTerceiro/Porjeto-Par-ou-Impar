{
 "cells": [
  {
   "cell_type": "markdown",
   "id": "95beb188",
   "metadata": {},
   "source": [
    "# Desafio 5.2: Par ou Ímpar\n",
    "\n",
    "Você deve mostrar todos os números Pares e pular os Ímpares\n",
    "No intervalo de 0 e 20 onde se checar no numero 15 nós vamos parar a execução"
   ]
  },
  {
   "cell_type": "code",
   "execution_count": 1,
   "id": "971a7c71",
   "metadata": {},
   "outputs": [
    {
     "name": "stdout",
     "output_type": "stream",
     "text": [
      "0\n",
      "2\n",
      "4\n",
      "6\n",
      "8\n",
      "10\n",
      "12\n",
      "14\n"
     ]
    }
   ],
   "source": [
    "for numero in range(20):\n",
    "    if(numero == 15):\n",
    "        break\n",
    "    if(numero % 2 == 1):\n",
    "        continue # 1 , 3 , 5 .. 13, 15\n",
    "    print(numero)"
   ]
  },
  {
   "cell_type": "code",
   "execution_count": 2,
   "id": "c59d8ddb",
   "metadata": {},
   "outputs": [
    {
     "name": "stdout",
     "output_type": "stream",
     "text": [
      "0\n",
      "2\n",
      "4\n",
      "6\n",
      "8\n",
      "10\n",
      "12\n",
      "14\n"
     ]
    }
   ],
   "source": [
    "for numero in range(20):\n",
    "    if(numero % 2 == 0 and numero < 15):\n",
    "        print(numero)"
   ]
  }
 ],
 "metadata": {
  "kernelspec": {
   "display_name": "Python 3",
   "language": "python",
   "name": "python3"
  },
  "language_info": {
   "codemirror_mode": {
    "name": "ipython",
    "version": 3
   },
   "file_extension": ".py",
   "mimetype": "text/x-python",
   "name": "python",
   "nbconvert_exporter": "python",
   "pygments_lexer": "ipython3",
   "version": "3.8.8"
  }
 },
 "nbformat": 4,
 "nbformat_minor": 5
}
